{
 "cells": [
  {
   "cell_type": "markdown",
   "metadata": {},
   "source": [
    "# <span style='color:green'> Consumer Financial Protection Bureau Dataset </span> \n",
    "Analysis on Complaint Data from the Consumer Financial Protection Bureau between 2012-2017 will be performed as follows:\n",
    "1. **Initializing Spark Environment**\n",
    "2. **Importing the dataset from the URL into a DataFrame**\n",
    "3. Data set **metadata analysis** and **Data Preparation**:\n",
    "  1. Display **schema and size** of the DataFrame\n",
    "  2. **Dropping Columns**\n",
    "  3. Renaming Columns\n",
    "  4. Get one or multiple **random samples** from the data set\n",
    "  5. Identify **data entities**, **metrics** and **dimensions**\n",
    "  6. **Columns categorization**\n",
    "4. Columns groups **basic profiling** to better understand our data set:\n",
    "  1. **Timing related** columns basic profiling\n",
    "  2. **Complaints related** columns basic profiling\n",
    "  3. **Resolution related** columns basic profiling\n",
    "  4. **Location related** columns basic profiling\n",
    "5. **Business Questions**\n",
    "  1. Overall **on-time complaint resolution rate**\n",
    "  2. **Time Analysis**\n",
    "    1. Number of complaints by Year\n",
    "    2. Company with most complaints received by Year\n",
    "    3. Submission platform usage frequency by Year\n",
    "  3. **Issue Analysis**\n",
    "    1. Top 20 - Most frequenty reported Issues\n",
    "    2. Top 5 issues reported by Product\n",
    "    3. Top 20 - Most frequenty reported Issues not resolved on time\n",
    "    4. Top 20 - Issues disputed by customer\n",
    "  4. Predicting **Number of complaints pending** for 2017\n",
    "\n",
    "  \n",
    "## 1. Initializing Spark Environment"
   ]
  },
  {
   "cell_type": "code",
   "execution_count": 1,
   "metadata": {},
   "outputs": [],
   "source": [
    "import findspark\n",
    "findspark.init()\n",
    "\n",
    "from pyspark.context import SparkContext\n",
    "from pyspark.sql.session import SparkSession\n",
    "\n",
    "sc = SparkContext.getOrCreate()\n",
    "spark = SparkSession(sc)"
   ]
  },
  {
   "cell_type": "markdown",
   "metadata": {},
   "source": [
    "## 2. Importing the dataset from the URL into a DataFrame"
   ]
  },
  {
   "cell_type": "code",
   "execution_count": 2,
   "metadata": {},
   "outputs": [],
   "source": [
    "import pandas as pd\n",
    "from pyspark.sql.types import StructType,StructField, IntegerType, DoubleType, StringType, DateType, BooleanType\n",
    "df_bank_complaints = pd.read_csv('https://query.data.world/s/ukhnhebhh2hvofs3r2gebe2cvn7zne').astype(\"str\")\n",
    "df_credit_card_complaints = pd.read_csv('https://query.data.world/s/n55tlkemw7qplik7cbg5kkjmqu55ds').astype(\"str\")\n",
    "df_pd = pd.concat([df_bank_complaints,df_credit_card_complaints],axis=0)\n",
    "df = spark.createDataFrame(df_pd)"
   ]
  },
  {
   "cell_type": "markdown",
   "metadata": {},
   "source": [
    "## 3. Data set metadata analysis and Data Preparation\n",
    "### A. Display schema and size of the DataFrame"
   ]
  },
  {
   "cell_type": "code",
   "execution_count": 3,
   "metadata": {},
   "outputs": [
    {
     "name": "stdout",
     "output_type": "stream",
     "text": [
      "root\n",
      " |-- Date received: string (nullable = true)\n",
      " |-- Product: string (nullable = true)\n",
      " |-- Sub-product: string (nullable = true)\n",
      " |-- Issue: string (nullable = true)\n",
      " |-- Sub-issue: string (nullable = true)\n",
      " |-- Consumer complaint narrative: string (nullable = true)\n",
      " |-- Company public response: string (nullable = true)\n",
      " |-- Company: string (nullable = true)\n",
      " |-- State: string (nullable = true)\n",
      " |-- ZIP code: string (nullable = true)\n",
      " |-- Tags: string (nullable = true)\n",
      " |-- Consumer consent provided?: string (nullable = true)\n",
      " |-- Submitted via: string (nullable = true)\n",
      " |-- Date sent to company: string (nullable = true)\n",
      " |-- Company response to consumer: string (nullable = true)\n",
      " |-- Timely response?: string (nullable = true)\n",
      " |-- Consumer disputed?: string (nullable = true)\n",
      " |-- Complaint ID: string (nullable = true)\n",
      "\n"
     ]
    },
    {
     "data": {
      "text/markdown": [
       "This DataFrame has **172529 rows**."
      ],
      "text/plain": [
       "<IPython.core.display.Markdown object>"
      ]
     },
     "metadata": {},
     "output_type": "display_data"
    }
   ],
   "source": [
    "from IPython.display import display, Markdown\n",
    "df.printSchema()\n",
    "display(Markdown(\"This DataFrame has **%d rows**.\" % df.count()))"
   ]
  },
  {
   "cell_type": "markdown",
   "metadata": {},
   "source": [
    "### B. Dropping Columns \n",
    "* **Complaint ID**: Unique ID given to every complaint for register purposes\n",
    "* **Date sent to company**: There is present another column recording whether there was a Timely response to the complaint and since resolution date has not been provided in the dataset this date is not of any significance\n",
    "* **Consumer complaint narrative**: This is a free text attribute with narration of customers complaint and will not be of use for gaining insights"
   ]
  },
  {
   "cell_type": "code",
   "execution_count": 4,
   "metadata": {},
   "outputs": [],
   "source": [
    "df = df.drop(\"Complaint ID\",\"Date sent to company\",\"Consumer complaint narrative\")"
   ]
  },
  {
   "cell_type": "markdown",
   "metadata": {},
   "source": [
    "### C. Renaming the columns to follow camel case"
   ]
  },
  {
   "cell_type": "code",
   "execution_count": 5,
   "metadata": {},
   "outputs": [],
   "source": [
    "df = df.withColumnRenamed(\"Date received\",\"dateRecvd\")\n",
    "df = df.withColumnRenamed(\"Sub-product\",\"subProduct\")\n",
    "df = df.withColumnRenamed(\"Sub-issue\",\"subIssue\")\n",
    "df = df.withColumnRenamed(\"Company public response\",\"companyPublicResponse\")\n",
    "df = df.withColumnRenamed(\"ZIP code\",\"zipCode\")\n",
    "df = df.withColumnRenamed(\"Consumer consent provided?\",\"consumerConsent\")\n",
    "df = df.withColumnRenamed(\"Submitted via\",\"submittedVia\")\n",
    "df = df.withColumnRenamed(\"Company response to consumer\",\"companyResponse\")\n",
    "df = df.withColumnRenamed(\"Timely response?\",\"timelyResponse\")\n",
    "df = df.withColumnRenamed(\"Consumer disputed?\",\"consumerDisputed\")"
   ]
  },
  {
   "cell_type": "markdown",
   "metadata": {},
   "source": [
    "### D. Get one or multiple random samples from the data set"
   ]
  },
  {
   "cell_type": "code",
   "execution_count": 6,
   "metadata": {},
   "outputs": [
    {
     "data": {
      "text/plain": [
       "[Row(dateRecvd='07/30/2013', Product='Bank account or service', subProduct='Checking account', Issue='Using a debit or ATM card', subIssue='nan', companyPublicResponse='nan', Company='JPMorgan Chase & Co.', State='NY', zipCode='11772', Tags='nan', consumerConsent='nan', submittedVia='Web', companyResponse='Closed with explanation', timelyResponse='Yes', consumerDisputed='No'),\n",
       " Row(dateRecvd='07/30/2013', Product='Bank account or service', subProduct='Savings account', Issue='Deposits and withdrawals', subIssue='nan', companyPublicResponse='nan', Company='JPMorgan Chase & Co.', State='NY', zipCode='10469', Tags='nan', consumerConsent='nan', submittedVia='Web', companyResponse='Closed with explanation', timelyResponse='Yes', consumerDisputed='No')]"
      ]
     },
     "execution_count": 6,
     "metadata": {},
     "output_type": "execute_result"
    }
   ],
   "source": [
    "df.cache() # optimization to make the processing faster\n",
    "df.sample(False, 0.1).take(2)"
   ]
  },
  {
   "cell_type": "markdown",
   "metadata": {},
   "source": [
    "### E. Data entities, metrics and dimensions\n",
    "\n",
    "I've identified the following elements:\n",
    "\n",
    "* **Entities:** Product, Sub-Product, Issue, Sub-Issue, Company, Tags\n",
    "* **Metrics:** Company Public Response, Company Consumer Response, Timely response?, Consumer disputed?,\n",
    "* **Dimensions:** State, ZIP Code, Company, Submitted via\n",
    "\n",
    "### F. Column categorization\n",
    "\n",
    "The following could be a potential column categorization:\n",
    "\n",
    "* **Timing related columns:** *Date received*, *Timely response?*\n",
    "* **Complaint related columns:** *Product*, *Sub-Product*, *Issue*, *Sub-Issue*, *Company*, *Tags*, *Submitted Via*\n",
    "* **Resoultion related columns:** *Consumer Disputed?*, *Company Response*, *Company Public Response*\n",
    "* **Location related columns:** *Consumer Consent*, *State*, *ZIP Code*\n",
    "\n",
    "## 4. Columns groups basic profiling to better understand our data set\n",
    "### A. Timing related columns basic profiling"
   ]
  },
  {
   "cell_type": "code",
   "execution_count": 7,
   "metadata": {},
   "outputs": [
    {
     "data": {
      "text/markdown": [
       "<strong><em>Since the date received column is object type so the data type of the column date received is converted to timestamp, and we change the data type of Timely Response to Boolean</em></strong>"
      ],
      "text/plain": [
       "<IPython.core.display.Markdown object>"
      ]
     },
     "metadata": {},
     "output_type": "display_data"
    },
    {
     "name": "stdout",
     "output_type": "stream",
     "text": [
      "Checking for nulls on columns Date Received and Timely response?:\n",
      "+---------+--------------+\n",
      "|dateRecvd|timelyResponse|\n",
      "+---------+--------------+\n",
      "|        0|             0|\n",
      "+---------+--------------+\n",
      "\n",
      "Checking amount of distinct values in columns Date Received and Timely response?:\n",
      "+---------+--------------+\n",
      "|dateRecvd|timelyResponse|\n",
      "+---------+--------------+\n",
      "|     1958|             2|\n",
      "+---------+--------------+\n",
      "\n",
      "Minimum Date Received:\n",
      "+--------------+\n",
      "|min(dateRecvd)|\n",
      "+--------------+\n",
      "|    2011-12-01|\n",
      "+--------------+\n",
      "\n",
      "Maximum Date Received:\n",
      "+--------------+\n",
      "|max(dateRecvd)|\n",
      "+--------------+\n",
      "|    2017-04-10|\n",
      "+--------------+\n",
      "\n"
     ]
    }
   ],
   "source": [
    "from pyspark.sql.functions import *\n",
    "\n",
    "display(Markdown(\"<strong><em>Since the date received column is object type so the data type of the column \"\\\n",
    "                 \"date received is converted to timestamp, and we change the data type of Timely Response to\"\\\n",
    "                 \" Boolean</em></strong>\"))\n",
    "\n",
    "df = df.withColumn(\"dateRecvd\",to_date(df.dateRecvd, 'MM/dd/yyyy'))\n",
    "df = df.withColumn(\"timelyResponse\",col(\"timelyResponse\").cast(BooleanType()))\n",
    "\n",
    "print(\"Checking for nulls on columns Date Received and Timely response?:\")\n",
    "df.select([count(when(col(c).isNull(), c)).alias(c) for c in [\"dateRecvd\",\"timelyResponse\"]]).show()\n",
    "print(\"Checking amount of distinct values in columns Date Received and Timely response?:\")\n",
    "df.select([countDistinct(c).alias(c) for c in [\"dateRecvd\",\"timelyResponse\"]]).show()\n",
    "print(\"Minimum Date Received:\")\n",
    "df.select(min(\"dateRecvd\")).show()\n",
    "print(\"Maximum Date Received:\")\n",
    "df.select(max(\"dateRecvd\")).show()"
   ]
  },
  {
   "cell_type": "markdown",
   "metadata": {},
   "source": [
    "### B. Complaints related columns basic profiling"
   ]
  },
  {
   "cell_type": "code",
   "execution_count": 8,
   "metadata": {},
   "outputs": [
    {
     "name": "stdout",
     "output_type": "stream",
     "text": [
      "Checking for nulls on columns Product, Sub-Product, Issue, Sub-Issue:\n",
      "+-------+----------+-----+--------+\n",
      "|Product|subProduct|Issue|subIssue|\n",
      "+-------+----------+-----+--------+\n",
      "|      0|         0|    0|       0|\n",
      "+-------+----------+-----+--------+\n",
      "\n",
      "Checking amount of distinct values in columns Product, Sub-Product, Issue, Sub-Issue:\n",
      "+-------+----------+-----+--------+\n",
      "|Product|subProduct|Issue|subIssue|\n",
      "+-------+----------+-----+--------+\n",
      "|      2|         6|   38|       1|\n",
      "+-------+----------+-----+--------+\n",
      "\n",
      "Since Sub-Issue has only 1 distinct value we can drop that column from the dataframe:\n",
      "List of Products and Sub-Products (Categorical variable):\n",
      "+-----------------------+-----+----------------------------------+-----+\n",
      "|Product                |Total|subProduct                        |Total|\n",
      "+-----------------------+-----+----------------------------------+-----+\n",
      "|Bank account or service|84811|Checking account                  |58197|\n",
      "|Credit card            |87718|nan                               |87718|\n",
      "|null                   |null |(CD) Certificate of deposit       |3369 |\n",
      "|null                   |null |Cashing a check without an account|622  |\n",
      "|null                   |null |Savings account                   |5212 |\n",
      "|null                   |null |Other bank product/service        |17411|\n",
      "+-----------------------+-----+----------------------------------+-----+\n",
      "\n"
     ]
    },
    {
     "data": {
      "text/markdown": [
       "The most frequent issue is **Account opening, closing, or management** which occurs **37349 times**."
      ],
      "text/plain": [
       "<IPython.core.display.Markdown object>"
      ]
     },
     "metadata": {},
     "output_type": "display_data"
    },
    {
     "name": "stdout",
     "output_type": "stream",
     "text": [
      "Checking for nulls on columns Company, Tags and Submitted Via:\n",
      "+-------+----+------------+\n",
      "|Company|Tags|submittedVia|\n",
      "+-------+----+------------+\n",
      "|      0|   0|           0|\n",
      "+-------+----+------------+\n",
      "\n",
      "Checking amount of distinct values in columns Company, Tags and Submitted Via:\n",
      "+-------+----+------------+\n",
      "|Company|Tags|submittedVia|\n",
      "+-------+----+------------+\n",
      "|    665|   4|           7|\n",
      "+-------+----+------------+\n",
      "\n"
     ]
    },
    {
     "data": {
      "text/markdown": [
       "The most frequent issue is reported with company: **Bank of America** with **22674 complaints**."
      ],
      "text/plain": [
       "<IPython.core.display.Markdown object>"
      ]
     },
     "metadata": {},
     "output_type": "display_data"
    },
    {
     "name": "stdout",
     "output_type": "stream",
     "text": [
      "+-----------------------------+------+------------+------+\n",
      "|Tags                         |Total |submittedVia|Total |\n",
      "+-----------------------------+------+------------+------+\n",
      "|Older American               |17348 |Referral    |42852 |\n",
      "|nan                          |147639|Web         |100396|\n",
      "|null                         |null  |Fax         |2033  |\n",
      "|null                         |null  |Email       |110   |\n",
      "|Older American, Servicemember|1927  |Postal mail |8923  |\n",
      "|null                         |null  |nan         |1     |\n",
      "|Servicemember                |5615  |Phone       |18214 |\n",
      "+-----------------------------+------+------------+------+\n",
      "\n"
     ]
    }
   ],
   "source": [
    "print(\"Checking for nulls on columns Product, Sub-Product, Issue, Sub-Issue:\")\n",
    "df.select([count(when(col(c).isNull(), c)).alias(c) for c in [\"Product\",\"subProduct\",\"Issue\",\"subIssue\"]]).show()\n",
    "print(\"Checking amount of distinct values in columns Product, Sub-Product, Issue, Sub-Issue:\")\n",
    "df.select([countDistinct(c).alias(c) for c in [\"Product\",\"subProduct\",\"Issue\",\"subIssue\"]]).show()\n",
    "\n",
    "FreqProduct = df.groupBy(\"Product\").agg(count(lit(1)).alias(\"Total\")).orderBy(col(\"Total\").desc())\n",
    "FreqIssue = df.groupBy(\"Issue\").agg(count(lit(1)).alias(\"Total\")).orderBy(col(\"Total\").desc())\n",
    "FreqSubProduct = df.groupBy(\"subProduct\").agg(count(lit(1)).alias(\"Total\")).orderBy(col(\"Total\").desc())\n",
    "FreqSubIssue = df.groupBy(\"subIssue\").agg(count(lit(1)).alias(\"Total\")).orderBy(col(\"Total\").desc())\n",
    "\n",
    "print(\"Since Sub-Issue has only 1 distinct value we can drop that column from the dataframe:\")\n",
    "df = df.drop(\"subIssue\")\n",
    "\n",
    "print (\"List of Products and Sub-Products (Categorical variable):\")\n",
    "FreqProduct = FreqProduct.withColumn(\"id\", monotonically_increasing_id())\n",
    "FreqSubProduct = FreqSubProduct.withColumn(\"id\", monotonically_increasing_id())\n",
    "top_DF = FreqProduct.join(FreqSubProduct, \"id\", \"outer\").drop(\"id\")\n",
    "top_DF.show(6,0)\n",
    "\n",
    "display(Markdown(\"The most frequent issue is **%s** which occurs **%d times**.\" %(FreqIssue.first().Issue,FreqIssue.first().Total)))\n",
    "\n",
    "print(\"Checking for nulls on columns Company, Tags and Submitted Via:\")\n",
    "df.select([count(when(col(c).isNull(), c)).alias(c) for c in [\"Company\",\"Tags\",\"submittedVia\"]]).show()\n",
    "print(\"Checking amount of distinct values in columns Company, Tags and Submitted Via:\")\n",
    "df.select([countDistinct(c).alias(c) for c in [\"Company\",\"Tags\",\"submittedVia\"]]).show()\n",
    "\n",
    "FreqCompany = df.groupBy(\"Company\").agg(count(lit(1)).alias(\"Total\")).orderBy(col(\"Total\").desc())\n",
    "FreqTags = df.groupBy(\"Tags\").agg(count(lit(1)).alias(\"Total\")).orderBy(col(\"Total\").desc())\n",
    "FreqSubmittedVia = df.groupBy(\"submittedVia\").agg(count(lit(1)).alias(\"Total\")).orderBy(col(\"Total\").desc())\n",
    "\n",
    "display(Markdown(\"The most frequent issue is reported with company: **%s** with **%d complaints**.\"\\\n",
    "                 %(FreqCompany.first().Company,FreqCompany.first().Total)))\n",
    "\n",
    "FreqTags = FreqTags.withColumn(\"id\", monotonically_increasing_id())\n",
    "FreqSubmittedVia = FreqSubmittedVia.withColumn(\"id\", monotonically_increasing_id())\n",
    "top_DF = FreqTags.join(FreqSubmittedVia, \"id\", \"outer\").drop(\"id\")\n",
    "top_DF.show(7,0)"
   ]
  },
  {
   "cell_type": "markdown",
   "metadata": {},
   "source": [
    "### C. Resolution related columns basic profiling"
   ]
  },
  {
   "cell_type": "code",
   "execution_count": 9,
   "metadata": {},
   "outputs": [
    {
     "name": "stdout",
     "output_type": "stream",
     "text": [
      "Checking for nulls on columns Consumer Disputed?, Company Response, Company Public Response:\n",
      "+----------------+---------------+---------------------+\n",
      "|consumerDisputed|companyResponse|companyPublicResponse|\n",
      "+----------------+---------------+---------------------+\n",
      "|               0|              0|                    0|\n",
      "+----------------+---------------+---------------------+\n",
      "\n",
      "Checking amount of distinct values in columns Product, Sub-Product, Issue, Sub-Issue:\n",
      "+----------------+---------------+---------------------+\n",
      "|consumerDisputed|companyResponse|companyPublicResponse|\n",
      "+----------------+---------------+---------------------+\n",
      "|               3|              8|                   11|\n",
      "+----------------+---------------+---------------------+\n",
      "\n",
      "+----------------+------+--------------------+------+---------------------+------+\n",
      "|consumerDisputed| Total|     companyResponse| Total|companyPublicResponse| Total|\n",
      "+----------------+------+--------------------+------+---------------------+------+\n",
      "|             Yes| 33989|Closed with monet...| 35859| Company has respo...| 25517|\n",
      "|              No|130699|Closed with expla...|108080|                  nan|129582|\n",
      "|            null|  null|  Closed with relief|  3739| Company believes ...|   269|\n",
      "|            null|  null|   Untimely response|   232| Company can't ver...|    70|\n",
      "|            null|  null|              Closed|  3025| Company believes ...|   105|\n",
      "|            null|  null|Closed without re...|  6286| Company believes ...|  2801|\n",
      "|            null|  null|                null|  null| Company believes ...|     3|\n",
      "|            null|  null|                null|  null| Company believes ...|    46|\n",
      "|            null|  null|         In progress|   788| Company believes ...|    79|\n",
      "|             nan|  7841|Closed with non-m...| 14520| Company chooses n...| 14014|\n",
      "|            null|  null|                null|  null| Company disputes ...|    43|\n",
      "+----------------+------+--------------------+------+---------------------+------+\n",
      "\n"
     ]
    }
   ],
   "source": [
    "print(\"Checking for nulls on columns Consumer Disputed?, Company Response, Company Public Response:\")\n",
    "df.select([count(when(col(c).isNull(), c)).alias(c) for c in [\"consumerDisputed\",\"companyResponse\",\"companyPublicResponse\"]]).show()\n",
    "print(\"Checking amount of distinct values in columns Product, Sub-Product, Issue, Sub-Issue:\")\n",
    "df.select([countDistinct(c).alias(c) for c in [\"consumerDisputed\",\"companyResponse\",\"companyPublicResponse\"]]).show()\n",
    "\n",
    "FreqConsumerDisputed = df.groupBy(\"consumerDisputed\").agg(count(lit(1)).alias(\"Total\")).orderBy(col(\"Total\").desc())\n",
    "FreqCompanyResponse = df.groupBy(\"companyResponse\").agg(count(lit(1)).alias(\"Total\")).orderBy(col(\"Total\").desc())\n",
    "FreqcompanyPublicResponse = df.groupBy(\"companyPublicResponse\").agg(count(lit(1)).alias(\"Total\")).orderBy(col(\"Total\").desc())\n",
    "\n",
    "FreqConsumerDisputed = FreqConsumerDisputed.withColumn(\"id\", monotonically_increasing_id())\n",
    "FreqCompanyResponse = FreqCompanyResponse.withColumn(\"id\", monotonically_increasing_id())\n",
    "FreqcompanyPublicResponse = FreqcompanyPublicResponse.withColumn(\"id\", monotonically_increasing_id())\n",
    "top_DF = FreqConsumerDisputed.join(FreqCompanyResponse, \"id\", \"outer\").join(FreqcompanyPublicResponse,\"id\",\"outer\").drop(\"id\")\n",
    "top_DF.show(truncate=True)"
   ]
  },
  {
   "cell_type": "markdown",
   "metadata": {},
   "source": [
    "### D. Location related columns basic profiling"
   ]
  },
  {
   "cell_type": "code",
   "execution_count": 10,
   "metadata": {},
   "outputs": [
    {
     "name": "stdout",
     "output_type": "stream",
     "text": [
      "Checking for nulls on columns Consumer Disputed?, Company Response, Company Public Response:\n",
      "+---------------+-----+-------+\n",
      "|consumerConsent|State|zipCode|\n",
      "+---------------+-----+-------+\n",
      "|              0|    0|      0|\n",
      "+---------------+-----+-------+\n",
      "\n",
      "Checking amount of distinct values in columns Product, Sub-Product, Issue, Sub-Issue:\n",
      "+---------------+-----+-------+\n",
      "|consumerConsent|State|zipCode|\n",
      "+---------------+-----+-------+\n",
      "|              5|   63|  19347|\n",
      "+---------------+-----+-------+\n",
      "\n",
      "+--------------------+------+\n",
      "|     consumerConsent| Total|\n",
      "+--------------------+------+\n",
      "|                 nan|120594|\n",
      "|    Consent provided| 31293|\n",
      "|Consent not provided| 19571|\n",
      "|               Other|  1069|\n",
      "|   Consent withdrawn|     2|\n",
      "+--------------------+------+\n",
      "\n"
     ]
    },
    {
     "data": {
      "text/markdown": [
       "The most frequent issue is reported in State: **CA** with **24038** occurances and at ZIP Code **100XX** with **504** occurances."
      ],
      "text/plain": [
       "<IPython.core.display.Markdown object>"
      ]
     },
     "metadata": {},
     "output_type": "display_data"
    }
   ],
   "source": [
    "print(\"Checking for nulls on columns Consumer Disputed?, Company Response, Company Public Response:\")\n",
    "df.select([count(when(col(c).isNull(), c)).alias(c) for c in [\"consumerConsent\",\"State\",\"zipCode\"]]).show()\n",
    "print(\"Checking amount of distinct values in columns Product, Sub-Product, Issue, Sub-Issue:\")\n",
    "df.select([countDistinct(c).alias(c) for c in [\"consumerConsent\",\"State\",\"zipCode\"]]).show()\n",
    "\n",
    "FreqConsumerConsent = df.groupBy(\"consumerConsent\").agg(count(lit(1)).alias(\"Total\")).orderBy(col(\"Total\").desc())\n",
    "FreqConsumerConsent.show()\n",
    "display(Markdown(\"The most frequent issue is reported in State: **%s** with **%d** occurances and at ZIP Code **%s** \"\\\n",
    "                 \"with **%d** occurances.\" %(df.groupBy(\"State\").agg(count(lit(1)).alias(\"Total\")).orderBy(col(\"Total\").desc()).first().State,\\\n",
    "                                             df.groupBy(\"State\").agg(count(lit(1)).alias(\"Total\")).orderBy(col(\"Total\").desc()).first().Total,\\\n",
    "                                             df.filter(col(\"zipCode\")!=\"nan\").groupBy(\"zipCode\").agg(count(lit(1)).alias(\"Total\")).orderBy(col(\"Total\").desc()).first().zipCode,\\\n",
    "                                             df.filter(col(\"zipCode\")!=\"nan\").groupBy(\"zipCode\").agg(count(lit(1)).alias(\"Total\")).orderBy(col(\"Total\").desc()).first().Total)))"
   ]
  },
  {
   "cell_type": "markdown",
   "metadata": {},
   "source": [
    "# 5. Business Questions\n",
    "### 1. Overall on-time complaint resolution rate"
   ]
  },
  {
   "cell_type": "code",
   "execution_count": 11,
   "metadata": {},
   "outputs": [
    {
     "data": {
      "text/markdown": [
       "\n",
       "| Timely Response? | Yes | No |\n",
       "|----|----|----|\n",
       "| **Count** | 169376 | 3153 |\n",
       "| **%** | 98.172481 | 1.827519 |\n"
      ],
      "text/plain": [
       "<IPython.core.display.Markdown object>"
      ]
     },
     "metadata": {},
     "output_type": "display_data"
    }
   ],
   "source": [
    "display(Markdown(\"\"\"\n",
    "| %s | %s | %s |\n",
    "|----|----|----|\n",
    "| %s | %s | %s |\n",
    "| %s | %s | %s |\n",
    "\"\"\" % (\"Timely Response?\", \"Yes\",\"No\",\"**Count**\", \\\n",
    "       \"%d\" % (df.filter(col(\"timelyResponse\")==1).count()), \\\n",
    "       \"%d\" % (df.filter(col(\"timelyResponse\")==0).count()),\"**%**\", \\\n",
    "       \"%f\" % (df.filter(col(\"timelyResponse\")==1).count()/df.count()*100), \\\n",
    "       \"%f\" % (df.filter(col(\"timelyResponse\")==0).count()/df.count()*100))))"
   ]
  },
  {
   "cell_type": "markdown",
   "metadata": {},
   "source": [
    "### 2. Time Analysis"
   ]
  },
  {
   "cell_type": "code",
   "execution_count": 12,
   "metadata": {},
   "outputs": [
    {
     "data": {
      "text/markdown": [
       "**a. Number of complaints by Year**"
      ],
      "text/plain": [
       "<IPython.core.display.Markdown object>"
      ]
     },
     "metadata": {},
     "output_type": "display_data"
    },
    {
     "name": "stdout",
     "output_type": "stream",
     "text": [
      "+----+-----+\n",
      "|Year|Total|\n",
      "+----+-----+\n",
      "|2016|42916|\n",
      "|2015|34442|\n",
      "|2014|28638|\n",
      "|2012|27579|\n",
      "|2013|26495|\n",
      "|2017|11199|\n",
      "|2011| 1260|\n",
      "+----+-----+\n",
      "\n"
     ]
    },
    {
     "data": {
      "text/markdown": [
       "**b. Company with most complaints received by Year**"
      ],
      "text/plain": [
       "<IPython.core.display.Markdown object>"
      ]
     },
     "metadata": {},
     "output_type": "display_data"
    },
    {
     "name": "stdout",
     "output_type": "stream",
     "text": [
      "+----+---------------+-----+\n",
      "|Year|        Company|Total|\n",
      "+----+---------------+-----+\n",
      "|2011|    Capital One|  237|\n",
      "|2012|Bank of America| 4122|\n",
      "|2013|Bank of America| 3693|\n",
      "|2014|Bank of America| 3760|\n",
      "|2015|Bank of America| 4570|\n",
      "|2016|       Citibank| 6511|\n",
      "|2017|       Citibank| 1452|\n",
      "+----+---------------+-----+\n",
      "\n"
     ]
    },
    {
     "data": {
      "text/markdown": [
       "**c. Submission platform usage frequency by Year**<br/>"
      ],
      "text/plain": [
       "<IPython.core.display.Markdown object>"
      ]
     },
     "metadata": {},
     "output_type": "display_data"
    },
    {
     "name": "stdout",
     "output_type": "stream",
     "text": [
      "+----+-----+---+-----+-----------+--------+-----+\n",
      "|Year|Email|Fax|Phone|Postal mail|Referral|  Web|\n",
      "+----+-----+---+-----+-----------+--------+-----+\n",
      "|2015|    2|375| 3277|       1586|    7293|21909|\n",
      "|2013|   58|418| 3566|       1829|    7555|13069|\n",
      "|2014|    3|404| 3301|       1840|    6816|16274|\n",
      "|2012|   40|241| 3416|       1237|   10405|12240|\n",
      "|2016|    4|466| 3770|       1898|    8096|28682|\n",
      "|2011|    3|  6|   76|         28|     557|  590|\n",
      "|2017| null|123|  808|        505|    2130| 7632|\n",
      "+----+-----+---+-----+-----------+--------+-----+\n",
      "\n"
     ]
    }
   ],
   "source": [
    "from itertools import chain\n",
    "from pyspark.sql.window import Window\n",
    "\n",
    "display(Markdown(\"**a. Number of complaints by Year**\"))\n",
    "df.withColumn(\"Year\",year(df.dateRecvd)).groupBy(\"Year\").agg(count(lit(1)).alias(\"Total\"))\\\n",
    "    .orderBy(col(\"Total\").desc()).show()\n",
    "\n",
    "display(Markdown(\"**b. Company with most complaints received by Year**\"))\n",
    "groupDF = df.withColumn(\"Year\",year(df.dateRecvd)).groupBy(\"Year\",\"Company\").agg(count(lit(1)).alias(\"Total\"))\\\n",
    "            .select(\"Company\",\"Year\",\"Total\").orderBy(col(\"Total\").desc())\n",
    "window = Window.partitionBy(groupDF['Year']).orderBy(groupDF['Total'].desc())\n",
    "groupDF = groupDF.withColumn(\"rank\",rank().over(window))\n",
    "groupDF.select(\"Year\",\"Company\",\"Total\")\\\n",
    "  .filter(col('rank') <= 1) \\\n",
    "  .sort(col(\"Year\"))\\\n",
    "  .show()\n",
    "\n",
    "display(Markdown(\"**c. Submission platform usage frequency by Year**<br/>\"))\n",
    "\n",
    "groupDF = df.withColumn(\"Year\",year(df.dateRecvd)).filter(col(\"submittedVia\")!=\"nan\")\\\n",
    "            .groupBy(\"Year\").pivot(\"submittedVia\").count().show()"
   ]
  },
  {
   "cell_type": "markdown",
   "metadata": {},
   "source": [
    "### 3. Issue Analysis"
   ]
  },
  {
   "cell_type": "code",
   "execution_count": 13,
   "metadata": {},
   "outputs": [
    {
     "data": {
      "text/markdown": [
       "**a. Top 20 - Most frequenty reported Issues**<br/>"
      ],
      "text/plain": [
       "<IPython.core.display.Markdown object>"
      ]
     },
     "metadata": {},
     "output_type": "display_data"
    },
    {
     "name": "stdout",
     "output_type": "stream",
     "text": [
      "+----------------------------------------+----------+\n",
      "|Issue                                   |Occurrence|\n",
      "+----------------------------------------+----------+\n",
      "|Account opening, closing, or management |37349     |\n",
      "|Deposits and withdrawals                |22491     |\n",
      "|Billing disputes                        |14827     |\n",
      "|Problems caused by my funds being low   |11688     |\n",
      "|Other                                   |9144      |\n",
      "|Identity theft / Fraud / Embezzlement   |8330      |\n",
      "|Making/receiving payments, sending money|7266      |\n",
      "|Closing/Cancelling account              |6291      |\n",
      "|Using a debit or ATM card               |6017      |\n",
      "|APR or interest rate                    |5463      |\n",
      "|Late fee                                |3576      |\n",
      "|Customer service / Customer relations   |3458      |\n",
      "|Delinquent account                      |3155      |\n",
      "|Credit determination                    |3013      |\n",
      "|Advertising and marketing               |2894      |\n",
      "|Rewards                                 |2866      |\n",
      "|Credit card protection / Debt protection|2689      |\n",
      "|Transaction issue                       |2654      |\n",
      "|Billing statement                       |2590      |\n",
      "|Payoff process                          |2277      |\n",
      "+----------------------------------------+----------+\n",
      "only showing top 20 rows\n",
      "\n"
     ]
    },
    {
     "data": {
      "text/markdown": [
       "**b. Top 5 issues reported by Product**"
      ],
      "text/plain": [
       "<IPython.core.display.Markdown object>"
      ]
     },
     "metadata": {},
     "output_type": "display_data"
    },
    {
     "name": "stdout",
     "output_type": "stream",
     "text": [
      "+-----------------------+----------------------------------------+-----+\n",
      "|Product                |Issue                                   |Total|\n",
      "+-----------------------+----------------------------------------+-----+\n",
      "|Credit card            |Billing disputes                        |14827|\n",
      "|Credit card            |Other                                   |9144 |\n",
      "|Credit card            |Identity theft / Fraud / Embezzlement   |8330 |\n",
      "|Credit card            |Closing/Cancelling account              |6291 |\n",
      "|Credit card            |APR or interest rate                    |5463 |\n",
      "|Bank account or service|Account opening, closing, or management |37349|\n",
      "|Bank account or service|Deposits and withdrawals                |22491|\n",
      "|Bank account or service|Problems caused by my funds being low   |11688|\n",
      "|Bank account or service|Making/receiving payments, sending money|7266 |\n",
      "|Bank account or service|Using a debit or ATM card               |6017 |\n",
      "+-----------------------+----------------------------------------+-----+\n",
      "\n"
     ]
    },
    {
     "data": {
      "text/markdown": [
       "**c. Top 20 - Most frequenty reported Issues not resolved on time**<br/>"
      ],
      "text/plain": [
       "<IPython.core.display.Markdown object>"
      ]
     },
     "metadata": {},
     "output_type": "display_data"
    },
    {
     "name": "stdout",
     "output_type": "stream",
     "text": [
      "+----------------------------------------+----------+\n",
      "|Issue                                   |Occurrence|\n",
      "+----------------------------------------+----------+\n",
      "|Account opening, closing, or management |1011      |\n",
      "|Deposits and withdrawals                |546       |\n",
      "|Problems caused by my funds being low   |266       |\n",
      "|Making/receiving payments, sending money|221       |\n",
      "|Using a debit or ATM card               |141       |\n",
      "|Billing disputes                        |139       |\n",
      "|Identity theft / Fraud / Embezzlement   |127       |\n",
      "|Other                                   |99        |\n",
      "|Closing/Cancelling account              |70        |\n",
      "|Unsolicited issuance of credit card     |60        |\n",
      "|Credit card protection / Debt protection|48        |\n",
      "|APR or interest rate                    |46        |\n",
      "|Late fee                                |31        |\n",
      "|Transaction issue                       |28        |\n",
      "|Customer service / Customer relations   |28        |\n",
      "|Delinquent account                      |27        |\n",
      "|Credit reporting                        |25        |\n",
      "|Credit determination                    |25        |\n",
      "|Credit line increase/decrease           |23        |\n",
      "|Rewards                                 |21        |\n",
      "+----------------------------------------+----------+\n",
      "only showing top 20 rows\n",
      "\n"
     ]
    },
    {
     "data": {
      "text/markdown": [
       "**d. Top 20 - Issues disputed by customers**<br/>"
      ],
      "text/plain": [
       "<IPython.core.display.Markdown object>"
      ]
     },
     "metadata": {},
     "output_type": "display_data"
    },
    {
     "name": "stdout",
     "output_type": "stream",
     "text": [
      "+----------------------------------------+----------+\n",
      "|Issue                                   |Occurrence|\n",
      "+----------------------------------------+----------+\n",
      "|Account opening, closing, or management |7399      |\n",
      "|Deposits and withdrawals                |4151      |\n",
      "|Billing disputes                        |3228      |\n",
      "|Other                                   |2055      |\n",
      "|Problems caused by my funds being low   |1786      |\n",
      "|Identity theft / Fraud / Embezzlement   |1553      |\n",
      "|Making/receiving payments, sending money|1420      |\n",
      "|Closing/Cancelling account              |1354      |\n",
      "|Using a debit or ATM card               |1164      |\n",
      "|APR or interest rate                    |1067      |\n",
      "|Rewards                                 |744       |\n",
      "|Credit determination                    |686       |\n",
      "|Customer service / Customer relations   |685       |\n",
      "|Advertising and marketing               |653       |\n",
      "|Delinquent account                      |625       |\n",
      "|Credit card protection / Debt protection|607       |\n",
      "|Credit line increase/decrease           |546       |\n",
      "|Transaction issue                       |502       |\n",
      "|Late fee                                |494       |\n",
      "|Billing statement                       |459       |\n",
      "+----------------------------------------+----------+\n",
      "only showing top 20 rows\n",
      "\n"
     ]
    }
   ],
   "source": [
    "df.createOrReplaceTempView('df')\n",
    "\n",
    "display(Markdown(\"**a. Top 20 - Most frequenty reported Issues**<br/>\"))\n",
    "spark.sql('SELECT Issue,Count(Issue) as Occurrence from df group by Issue order by count(Issue) desc').show(20,0)\n",
    "\n",
    "display(Markdown(\"**b. Top 5 issues reported by Product**\"))\n",
    "groupDF = df.groupBy(\"Product\",\"Issue\").agg(count(lit(1)).alias(\"Total\"))\\\n",
    "            .select(\"Product\",\"Issue\",\"Total\").orderBy(col(\"Total\").desc())\n",
    "window = Window.partitionBy(groupDF['Product']).orderBy(groupDF['Total'].desc())\n",
    "groupDF = groupDF.withColumn(\"rank\",rank().over(window))\n",
    "groupDF.select(\"Product\",\"Issue\",\"Total\")\\\n",
    "  .filter(col('rank') <= 5) \\\n",
    "  .show(10,0)\n",
    "\n",
    "display(Markdown(\"**c. Top 20 - Most frequenty reported Issues not resolved on time**<br/>\"))\n",
    "spark.sql(\"SELECT Issue,Count(Issue) as Occurrence from df where timelyResponse = 0 group by \"\\\n",
    "            \"Issue order by count(Issue) desc\").show(20,0)\n",
    "\n",
    "display(Markdown(\"**d. Top 20 - Issues disputed by customers**<br/>\"))\n",
    "spark.sql(\"SELECT Issue,Count(Issue) as Occurrence from df where consumerDisputed = 'Yes' group by \"\\\n",
    "            \"Issue order by count(Issue) desc\").show(20,0)"
   ]
  },
  {
   "cell_type": "markdown",
   "metadata": {},
   "source": [
    "### 4. Predicting Number of complaints pending for 2017\n",
    "Since our dataset is until April, 2017 we can use previous data to predict the expected number of complaints in 2017 and have an estimate as to how many more issues they can anticipate to allocate enough resources.<br/>\n",
    "I tried to find the number of complaints to come using a linear regression model with Year as the dependant variable(y) and total issues reported every year as the independant variable(x)"
   ]
  },
  {
   "cell_type": "code",
   "execution_count": 14,
   "metadata": {},
   "outputs": [],
   "source": [
    "df_ml = df.withColumn(\"Year\",year(df.dateRecvd)).select('Year').groupBy('Year').count().orderBy(col(\"Year\"))"
   ]
  },
  {
   "cell_type": "code",
   "execution_count": 15,
   "metadata": {},
   "outputs": [],
   "source": [
    "from pyspark.ml.regression import LinearRegression\n",
    "from pyspark.ml.linalg import Vectors\n",
    "from pyspark.ml.feature import VectorAssembler"
   ]
  },
  {
   "cell_type": "code",
   "execution_count": 16,
   "metadata": {},
   "outputs": [],
   "source": [
    "assembler = VectorAssembler(inputCols=['Year'],outputCol='features')\n",
    "output = assembler.transform(df_ml)\n",
    "model_data = output.select('features','count')\n",
    "train_data,test_data = model_data.limit(6),\\\n",
    "        model_data.withColumn(\"index\", monotonically_increasing_id()).orderBy(desc(\"index\")).drop(\"index\").limit(1)\n",
    "lr = LinearRegression(labelCol='count')\n",
    "lr_model = lr.fit(train_data)\n",
    "test_results = lr_model.evaluate(test_data)"
   ]
  },
  {
   "cell_type": "code",
   "execution_count": 17,
   "metadata": {},
   "outputs": [],
   "source": [
    "unlabeled_data = test_data.select('features')\n",
    "predictions = lr_model.transform(unlabeled_data)"
   ]
  },
  {
   "cell_type": "code",
   "execution_count": 18,
   "metadata": {},
   "outputs": [
    {
     "name": "stdout",
     "output_type": "stream",
     "text": [
      "+--------+----------+\n",
      "|features|prediction|\n",
      "+--------+----------+\n",
      "|[2017.0]|   49990.0|\n",
      "+--------+----------+\n",
      "\n"
     ]
    },
    {
     "data": {
      "text/markdown": [
       "We currently have number of issues occured already until 10-April-2017 which we can see below:"
      ],
      "text/plain": [
       "<IPython.core.display.Markdown object>"
      ]
     },
     "metadata": {},
     "output_type": "display_data"
    },
    {
     "name": "stdout",
     "output_type": "stream",
     "text": [
      "+----+-----+\n",
      "|Year|count|\n",
      "+----+-----+\n",
      "|2017|11199|\n",
      "+----+-----+\n",
      "\n"
     ]
    }
   ],
   "source": [
    "predictions.select(\"features\",round(\"prediction\").alias(\"prediction\")).show()\n",
    "display(Markdown(\"We currently have number of issues occured already until 10-April-2017 which we can see below:\"))\n",
    "df_ml.filter(col(\"Year\")==\"2017\").show()"
   ]
  },
  {
   "cell_type": "code",
   "execution_count": 19,
   "metadata": {},
   "outputs": [
    {
     "data": {
      "text/markdown": [
       "We can anticipate more **38791 complaints** to be registered in rest of 2017."
      ],
      "text/plain": [
       "<IPython.core.display.Markdown object>"
      ]
     },
     "metadata": {},
     "output_type": "display_data"
    }
   ],
   "source": [
    "display(Markdown(\"We can anticipate more **%d complaints** to be registered in rest of 2017.\" % (49990-11199)))"
   ]
  },
  {
   "cell_type": "markdown",
   "metadata": {},
   "source": [
    "### Thank You!"
   ]
  }
 ],
 "metadata": {
  "kernelspec": {
   "display_name": "Python 3",
   "language": "python",
   "name": "python3"
  },
  "language_info": {
   "codemirror_mode": {
    "name": "ipython",
    "version": 3
   },
   "file_extension": ".py",
   "mimetype": "text/x-python",
   "name": "python",
   "nbconvert_exporter": "python",
   "pygments_lexer": "ipython3",
   "version": "3.7.3"
  }
 },
 "nbformat": 4,
 "nbformat_minor": 4
}
